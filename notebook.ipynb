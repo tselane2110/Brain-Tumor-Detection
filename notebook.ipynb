{
  "cells": [
    {
      "cell_type": "markdown",
      "id": "9a7f3a60-4ab4-4dcc-b91e-51ce1cddf517",
      "metadata": {
        "id": "9a7f3a60-4ab4-4dcc-b91e-51ce1cddf517"
      },
      "source": [
        "[![Open In Colab](https://colab.research.google.com/assets/colab-badge.svg)](https://colab.research.google.com/github/tselane2110/Brain-Tumor-Detection/blob/main/notebook.ipynb)\n"
      ]
    },
    {
      "cell_type": "code",
      "source": [
        "!git clone https://github.com/tselane2110/Brain-Tumor-Detection.git"
      ],
      "metadata": {
        "id": "Zey2twHFHg1F",
        "outputId": "e5e27555-82ae-4d76-e57a-59aef1176fd1",
        "colab": {
          "base_uri": "https://localhost:8080/"
        }
      },
      "id": "Zey2twHFHg1F",
      "execution_count": 2,
      "outputs": [
        {
          "output_type": "stream",
          "name": "stdout",
          "text": [
            "Cloning into 'Brain-Tumor-Detection'...\n",
            "remote: Enumerating objects: 17, done.\u001b[K\n",
            "remote: Counting objects: 100% (17/17), done.\u001b[K\n",
            "remote: Compressing objects: 100% (10/10), done.\u001b[K\n",
            "remote: Total 17 (delta 4), reused 9 (delta 2), pack-reused 0 (from 0)\u001b[K\n",
            "Receiving objects: 100% (17/17), 1.80 MiB | 11.53 MiB/s, done.\n",
            "Resolving deltas: 100% (4/4), done.\n"
          ]
        }
      ]
    },
    {
      "cell_type": "code",
      "execution_count": 4,
      "id": "f58da515-be76-4c9d-a359-68c09dd84816",
      "metadata": {
        "id": "f58da515-be76-4c9d-a359-68c09dd84816",
        "outputId": "c72e41be-d9ec-4b4f-9ea8-9b4f933abe6b",
        "colab": {
          "base_uri": "https://localhost:8080/"
        }
      },
      "outputs": [
        {
          "output_type": "stream",
          "name": "stdout",
          "text": [
            "/content/Brain-Tumor-Detection\n"
          ]
        }
      ],
      "source": [
        "%cd Brain-Tumor-Detection/"
      ]
    },
    {
      "cell_type": "code",
      "source": [
        "%pwd # to check where we are"
      ],
      "metadata": {
        "id": "xNDRtgGUHA2r",
        "outputId": "aa1eb8f3-3047-4b65-e073-320954399537",
        "colab": {
          "base_uri": "https://localhost:8080/",
          "height": 35
        }
      },
      "id": "xNDRtgGUHA2r",
      "execution_count": 5,
      "outputs": [
        {
          "output_type": "execute_result",
          "data": {
            "text/plain": [
              "'/content/Brain-Tumor-Detection'"
            ],
            "application/vnd.google.colaboratory.intrinsic+json": {
              "type": "string"
            }
          },
          "metadata": {},
          "execution_count": 5
        }
      ]
    },
    {
      "cell_type": "code",
      "source": [
        "import dataset\n",
        "dataset.printTest()"
      ],
      "metadata": {
        "id": "OdJJ64XbHyI1",
        "outputId": "cd42a2b8-9097-4e1e-87e5-4753c21eb2e7",
        "colab": {
          "base_uri": "https://localhost:8080/"
        }
      },
      "id": "OdJJ64XbHyI1",
      "execution_count": 6,
      "outputs": [
        {
          "output_type": "stream",
          "name": "stdout",
          "text": [
            "test\n"
          ]
        }
      ]
    },
    {
      "cell_type": "code",
      "source": [],
      "metadata": {
        "id": "GRCu5nmwH2C-"
      },
      "id": "GRCu5nmwH2C-",
      "execution_count": null,
      "outputs": []
    }
  ],
  "metadata": {
    "kernelspec": {
      "display_name": "Python 3 (ipykernel)",
      "language": "python",
      "name": "python3"
    },
    "language_info": {
      "codemirror_mode": {
        "name": "ipython",
        "version": 3
      },
      "file_extension": ".py",
      "mimetype": "text/x-python",
      "name": "python",
      "nbconvert_exporter": "python",
      "pygments_lexer": "ipython3",
      "version": "3.12.4"
    },
    "colab": {
      "provenance": []
    }
  },
  "nbformat": 4,
  "nbformat_minor": 5
}