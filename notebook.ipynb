{
  "cells": [
    {
      "cell_type": "markdown",
      "id": "9a7f3a60-4ab4-4dcc-b91e-51ce1cddf517",
      "metadata": {
        "id": "9a7f3a60-4ab4-4dcc-b91e-51ce1cddf517"
      },
      "source": [
        "[![Open In Colab](https://colab.research.google.com/assets/colab-badge.svg)](https://colab.research.google.com/github/tselane2110/Brain-Tumor-Detection/blob/main/notebook.ipynb)\n"
      ]
    },
    {
      "cell_type": "markdown",
      "source": [
        "## 1. Cloning the repository\n",
        "\n",
        "- for easy access to repo files"
      ],
      "metadata": {
        "id": "xiG_EaNoJjR-"
      },
      "id": "xiG_EaNoJjR-"
    },
    {
      "cell_type": "code",
      "source": [
        "!git clone https://github.com/tselane2110/Brain-Tumor-Detection.git"
      ],
      "metadata": {
        "id": "Zey2twHFHg1F",
        "outputId": "bfb2e5cf-4973-494b-daff-cf577cbc2137",
        "colab": {
          "base_uri": "https://localhost:8080/"
        }
      },
      "id": "Zey2twHFHg1F",
      "execution_count": 1,
      "outputs": [
        {
          "output_type": "stream",
          "name": "stdout",
          "text": [
            "fatal: destination path 'Brain-Tumor-Detection' already exists and is not an empty directory.\n"
          ]
        }
      ]
    },
    {
      "cell_type": "code",
      "execution_count": 2,
      "id": "f58da515-be76-4c9d-a359-68c09dd84816",
      "metadata": {
        "id": "f58da515-be76-4c9d-a359-68c09dd84816",
        "outputId": "0b39dd95-9347-4794-be6f-369520f192a8",
        "colab": {
          "base_uri": "https://localhost:8080/"
        }
      },
      "outputs": [
        {
          "output_type": "stream",
          "name": "stdout",
          "text": [
            "/content/Brain-Tumor-Detection\n"
          ]
        }
      ],
      "source": [
        "%cd Brain-Tumor-Detection/"
      ]
    },
    {
      "cell_type": "code",
      "source": [
        "%pwd # to check where we are"
      ],
      "metadata": {
        "id": "xNDRtgGUHA2r",
        "outputId": "5b7ac618-36c9-49da-c512-9e6bdc400036",
        "colab": {
          "base_uri": "https://localhost:8080/",
          "height": 35
        }
      },
      "id": "xNDRtgGUHA2r",
      "execution_count": 3,
      "outputs": [
        {
          "output_type": "execute_result",
          "data": {
            "text/plain": [
              "'/content/Brain-Tumor-Detection'"
            ],
            "application/vnd.google.colaboratory.intrinsic+json": {
              "type": "string"
            }
          },
          "metadata": {},
          "execution_count": 3
        }
      ]
    },
    {
      "cell_type": "markdown",
      "source": [
        "# 2. Loading the dataset\n",
        "\n",
        "- the dataset is preprocess and augmented so the size of the dataset is twice as much as its original size."
      ],
      "metadata": {
        "id": "jGTgSBhvJofL"
      },
      "id": "jGTgSBhvJofL"
    },
    {
      "cell_type": "code",
      "source": [
        "import dataset\n",
        "path2data = dataset.download_dataset()"
      ],
      "metadata": {
        "id": "OdJJ64XbHyI1",
        "outputId": "72b9e38f-3250-4684-968d-50684b69d101",
        "colab": {
          "base_uri": "https://localhost:8080/"
        }
      },
      "id": "OdJJ64XbHyI1",
      "execution_count": 4,
      "outputs": [
        {
          "output_type": "stream",
          "name": "stdout",
          "text": [
            "Using Colab cache for faster access to the 'brain-tumor-classification-mri' dataset.\n",
            "Path to dataset files: /kaggle/input/brain-tumor-classification-mri\n"
          ]
        }
      ]
    },
    {
      "cell_type": "code",
      "source": [],
      "metadata": {
        "id": "GRCu5nmwH2C-"
      },
      "id": "GRCu5nmwH2C-",
      "execution_count": 4,
      "outputs": []
    }
  ],
  "metadata": {
    "kernelspec": {
      "display_name": "Python 3 (ipykernel)",
      "language": "python",
      "name": "python3"
    },
    "language_info": {
      "codemirror_mode": {
        "name": "ipython",
        "version": 3
      },
      "file_extension": ".py",
      "mimetype": "text/x-python",
      "name": "python",
      "nbconvert_exporter": "python",
      "pygments_lexer": "ipython3",
      "version": "3.12.4"
    },
    "colab": {
      "provenance": []
    }
  },
  "nbformat": 4,
  "nbformat_minor": 5
}